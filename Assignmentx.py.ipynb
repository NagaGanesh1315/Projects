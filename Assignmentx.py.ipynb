{
  "nbformat": 4,
  "nbformat_minor": 0,
  "metadata": {
    "colab": {
      "provenance": [],
      "collapsed_sections": []
    },
    "kernelspec": {
      "name": "python3",
      "display_name": "Python 3"
    },
    "language_info": {
      "name": "python"
    }
  },
  "cells": [
    {
      "cell_type": "markdown",
      "source": [
        "Part I: Warm-up alignment table"
      ],
      "metadata": {
        "id": "bfRr6ert-UAv"
      }
    },
    {
      "cell_type": "code",
      "execution_count": 3,
      "metadata": {
        "id": "7HCt9Fae-Mnf"
      },
      "outputs": [],
      "source": [
        "# 1. Given the following table/matrix, write a python code to store the table into python variable. (hint: feel free to use list\n",
        "# or ordered dictionary or pandas table or other data structure in python).\n",
        "\n",
        "# storing the matrix using nested lists \n",
        "matrix = [[1,1,1],[2,2,2],[3,3,3]]"
      ]
    },
    {
      "cell_type": "code",
      "source": [
        "#2. (2 points) Write for loop to print out the elements in the variable created in question 1.\n",
        "\n",
        "def print_matrix(matrix):\n",
        "  # iterating over the matrix index and rows to print the \n",
        "  for index,row in enumerate(matrix):\n",
        "    print(f\"Row {index} :\", row)"
      ],
      "metadata": {
        "id": "-N_B2q_B-r-8"
      },
      "execution_count": 4,
      "outputs": []
    },
    {
      "cell_type": "code",
      "source": [
        "print_matrix(matrix)"
      ],
      "metadata": {
        "colab": {
          "base_uri": "https://localhost:8080/"
        },
        "id": "hGYck32WBh2F",
        "outputId": "de3147fa-1516-4614-cf83-635693ffc0f7"
      },
      "execution_count": 5,
      "outputs": [
        {
          "output_type": "stream",
          "name": "stdout",
          "text": [
            "Row 0 : [1, 1, 1]\n",
            "Row 1 : [2, 2, 2]\n",
            "Row 2 : [3, 3, 3]\n"
          ]
        }
      ]
    },
    {
      "cell_type": "code",
      "source": [
        "# 3. Given the variable created in question 1, write python codes to change its first row to [-1, -1, -1]. An\n",
        "# example output is attached below:\n",
        "\n",
        "row_val = 0\n",
        "temp =[]\n",
        "# iterating over the given row and multiplying with the gap value\n",
        "for val in matrix[row_val]:\n",
        "  temp.append(val*-1)\n",
        "matrix[row_val] = temp"
      ],
      "metadata": {
        "id": "k6hzkw25_MEp"
      },
      "execution_count": 6,
      "outputs": []
    },
    {
      "cell_type": "code",
      "source": [
        "print_matrix(matrix)"
      ],
      "metadata": {
        "colab": {
          "base_uri": "https://localhost:8080/"
        },
        "id": "Hyt76Q-CA_Xt",
        "outputId": "d7ff8832-b0cf-4647-9878-dd8b41ce4668"
      },
      "execution_count": 7,
      "outputs": [
        {
          "output_type": "stream",
          "name": "stdout",
          "text": [
            "Row 0 : [-1, -1, -1]\n",
            "Row 1 : [2, 2, 2]\n",
            "Row 2 : [3, 3, 3]\n"
          ]
        }
      ]
    },
    {
      "cell_type": "code",
      "source": [
        "# 4. Given the variable created in question 3, write python codes to change its first column to [-1, -1, -1]. An\n",
        "# example output is attached below:\n",
        "\n",
        "updated_column = [-1,-1,-1]\n",
        "col_num=1\n",
        "## iterating over the given column and updating with the updated values using updated_column\n",
        "for ind,val in enumerate(matrix):\n",
        "  matrix[ind][col_num-1]=updated_column[ind]"
      ],
      "metadata": {
        "id": "UTSbm6Q3BBKr"
      },
      "execution_count": 8,
      "outputs": []
    },
    {
      "cell_type": "code",
      "source": [
        "print_matrix(matrix)"
      ],
      "metadata": {
        "colab": {
          "base_uri": "https://localhost:8080/"
        },
        "id": "NJ2L9dEIEs4X",
        "outputId": "ca3cc7e9-6fff-401e-ffd4-e8f11430eb3c"
      },
      "execution_count": 9,
      "outputs": [
        {
          "output_type": "stream",
          "name": "stdout",
          "text": [
            "Row 0 : [-1, -1, -1]\n",
            "Row 1 : [-1, 2, 2]\n",
            "Row 2 : [-1, 3, 3]\n"
          ]
        }
      ]
    },
    {
      "cell_type": "code",
      "source": [
        "# 5. Suppose we have two sequences (X and Y). The length of X is M, and the length of Y is N. We would like to\n",
        "# create an alignment table with M+1 rows and N+1 columns, write a python function to create an alignment table with all\n",
        "# values equal to 0. An example code is attached below:\n",
        "\n",
        "def alignment_table(sequence_1,sequence_2):\n",
        "  print(f\"sequence 1: {sequence_1} with length {len(sequence_1)}\")\n",
        "  print(f\"sequence 2: {sequence_2}  with length {len(sequence_2)}\")\n",
        "\n",
        "  m = len(sequence_1)+1\n",
        "  n = len(sequence_2)+1\n",
        "  # using list comprehension we are creating a nested list of size (m+1)*(n+1)\n",
        "  return [[0 for i in range(n)] for j in range(m)]"
      ],
      "metadata": {
        "id": "_wvcplYlEv7V"
      },
      "execution_count": 11,
      "outputs": []
    },
    {
      "cell_type": "code",
      "source": [
        "table = alignment_table('AATTATATT','ACGTTAT')\n",
        "print_matrix(table)"
      ],
      "metadata": {
        "colab": {
          "base_uri": "https://localhost:8080/"
        },
        "id": "x9xbe-pzHuNT",
        "outputId": "f4162dda-0a2f-4c25-8cc8-1c29bbf15e02"
      },
      "execution_count": 12,
      "outputs": [
        {
          "output_type": "stream",
          "name": "stdout",
          "text": [
            "sequence 1: AATTATATT with length 9\n",
            "sequence 2: ACGTTAT  with length 7\n",
            "Row 0 : [0, 0, 0, 0, 0, 0, 0, 0]\n",
            "Row 1 : [0, 0, 0, 0, 0, 0, 0, 0]\n",
            "Row 2 : [0, 0, 0, 0, 0, 0, 0, 0]\n",
            "Row 3 : [0, 0, 0, 0, 0, 0, 0, 0]\n",
            "Row 4 : [0, 0, 0, 0, 0, 0, 0, 0]\n",
            "Row 5 : [0, 0, 0, 0, 0, 0, 0, 0]\n",
            "Row 6 : [0, 0, 0, 0, 0, 0, 0, 0]\n",
            "Row 7 : [0, 0, 0, 0, 0, 0, 0, 0]\n",
            "Row 8 : [0, 0, 0, 0, 0, 0, 0, 0]\n",
            "Row 9 : [0, 0, 0, 0, 0, 0, 0, 0]\n"
          ]
        }
      ]
    },
    {
      "cell_type": "code",
      "source": [
        "# 6. (6 points) Given what you have done in question 5, we create the initial alignment table for the two sequences (X\n",
        "# and Y). Now we would like to initialize the first row and first column as the following rules,\n",
        "\n",
        "def alignment_table_updated(sequence_1,sequence_2,row_val=0, col_val=0,gap=-1):\n",
        "  print(f\"sequence 1: {sequence_1} with length {len(sequence_1)}\")\n",
        "  print(f\"sequence 2: {sequence_2}  with length {len(sequence_2)}\")\n",
        "\n",
        "  m = len(sequence_1)+1\n",
        "  n = len(sequence_2)+1\n",
        "  mn = [[0 for i in range(n)] for j in range(m)]\n",
        "\n",
        "  # a. for the first row, filling out each value by the adding value 'gap penalty' (i.e., -1) to its left cell's value. For instance,\n",
        "  # [0,0,0,0] will be [0, -1, -2, -3].\n",
        "\n",
        "  # iterating over all the values of the given row to add gap penatly \n",
        "  sub_mn = mn[row_val]\n",
        "  for ind,element in enumerate(sub_mn):\n",
        "    sub_mn[ind] = ind*gap\n",
        "    \n",
        "  # iterating over the given column and adding column gap penalty\n",
        "  tmp =0\n",
        "  for ind,val in enumerate(mn):\n",
        "    mn[ind][col_val] = ind*gap\n",
        "\n",
        "  return mn"
      ],
      "metadata": {
        "id": "zEyRDkTuH39S"
      },
      "execution_count": 68,
      "outputs": []
    },
    {
      "cell_type": "code",
      "source": [
        "print_matrix(alignment_table_updated('AATTATATT','ACGTTAT'))"
      ],
      "metadata": {
        "colab": {
          "base_uri": "https://localhost:8080/"
        },
        "id": "hzACpb11Lrdb",
        "outputId": "bfd3a8de-07b5-424d-b53c-b16324226b6e"
      },
      "execution_count": 69,
      "outputs": [
        {
          "output_type": "stream",
          "name": "stdout",
          "text": [
            "sequence 1: AATTATATT with length 9\n",
            "sequence 2: ACGTTAT  with length 7\n",
            "Row 0 : [0, -1, -2, -3, -4, -5, -6, -7]\n",
            "Row 1 : [-1, 0, 0, 0, 0, 0, 0, 0]\n",
            "Row 2 : [-2, 0, 0, 0, 0, 0, 0, 0]\n",
            "Row 3 : [-3, 0, 0, 0, 0, 0, 0, 0]\n",
            "Row 4 : [-4, 0, 0, 0, 0, 0, 0, 0]\n",
            "Row 5 : [-5, 0, 0, 0, 0, 0, 0, 0]\n",
            "Row 6 : [-6, 0, 0, 0, 0, 0, 0, 0]\n",
            "Row 7 : [-7, 0, 0, 0, 0, 0, 0, 0]\n",
            "Row 8 : [-8, 0, 0, 0, 0, 0, 0, 0]\n",
            "Row 9 : [-9, 0, 0, 0, 0, 0, 0, 0]\n"
          ]
        }
      ]
    },
    {
      "cell_type": "code",
      "source": [
        "# Part 2: Advancing alignment table computing for global alignment\n",
        "\n",
        "def buildNWTable(X, Y, match=1, mismatch=-1, gap=-1):\n",
        "  # print(\"Sequence 1:\", X)\n",
        "  # print(\"Sequence 2:\", Y)\n",
        "  #### Note 1: create table of zeros with dimension (1+|X|)-by-(1+|Y|)\n",
        "  # X: vertical, Y:horizontal\n",
        "  opt = []\n",
        "  #### 1. Inside the function 'buildNWTable' above, the code correctly determines how to initialize the alignment table with all 0s.\n",
        "  table = alignment_table(X,Y)\n",
        "  #### 2. Inside the function 'buildNWTable' above, the code correctly determines how to initialize the first row and first column.\n",
        "  table = alignment_table_updated(X,Y)\n",
        "\n",
        "  #### 3. Inside the function 'buildNWTable' above, the code correctly determines how to calculate the score in each cell for each possible alignment.\n",
        "\n",
        "\n",
        "  # iterating over the whole matrix to fill all the cells with score based on the given rules \n",
        "  for index_m, val in enumerate(table):\n",
        "    for index_n, subval in enumerate(val):\n",
        "      if index_m>0 and index_n >0:\n",
        "        score = match if X[index_m-1]==Y[index_n-1] else mismatch\n",
        "        # score caluclation using the nw algorithm\n",
        "        table[index_m][index_n] = max((score+table[index_m-1][index_n-1]),\n",
        "                                      (gap+table[index_m-1][index_n]),\n",
        "                                      (gap+table[index_m][index_n-1]))\n",
        "  #### Print the final table\n",
        "  print_matrix(table)\n",
        "\n",
        "  ## 4. Inside the function 'buildNWTable' above, the code correctly returns the optimal alignment table\n",
        "  return table"
      ],
      "metadata": {
        "id": "3vdB5Ua4Ly_h"
      },
      "execution_count": 70,
      "outputs": []
    },
    {
      "cell_type": "code",
      "source": [
        "# 5. (15 points) Testing the python program using any example sequences (i.e., sequence 1: TTGCT, sequence 2: CTTCCT)\n",
        "# to answer the following questions.\n",
        "buildNWTable('TTGCT','CTTCCT')"
      ],
      "metadata": {
        "colab": {
          "base_uri": "https://localhost:8080/"
        },
        "id": "O48IxuBAjnB_",
        "outputId": "e0491682-0756-41e6-db68-45c5c180354c"
      },
      "execution_count": 71,
      "outputs": [
        {
          "output_type": "stream",
          "name": "stdout",
          "text": [
            "sequence 1: TTGCT with length 5\n",
            "sequence 2: CTTCCT  with length 6\n",
            "sequence 1: TTGCT with length 5\n",
            "sequence 2: CTTCCT  with length 6\n",
            "Row 0 : [0, -1, -2, -3, -4, -5, -6]\n",
            "Row 1 : [-1, -1, 0, -1, -2, -3, -4]\n",
            "Row 2 : [-2, -2, 0, 1, 0, -1, -2]\n",
            "Row 3 : [-3, -3, -1, 0, 0, -1, -2]\n",
            "Row 4 : [-4, -2, -2, -1, 1, 1, 0]\n",
            "Row 5 : [-5, -3, -1, -1, 0, 0, 2]\n"
          ]
        },
        {
          "output_type": "execute_result",
          "data": {
            "text/plain": [
              "[[0, -1, -2, -3, -4, -5, -6],\n",
              " [-1, -1, 0, -1, -2, -3, -4],\n",
              " [-2, -2, 0, 1, 0, -1, -2],\n",
              " [-3, -3, -1, 0, 0, -1, -2],\n",
              " [-4, -2, -2, -1, 1, 1, 0],\n",
              " [-5, -3, -1, -1, 0, 0, 2]]"
            ]
          },
          "metadata": {},
          "execution_count": 71
        }
      ]
    },
    {
      "cell_type": "code",
      "source": [
        "# 5. (15 points) Testing the python program using any example sequences (i.e., sequence 1: TTGCT, sequence 2: CTTCCT)\n",
        "# to answer the following questions.\n",
        "buildNWTable('CTGTCG','CTTCCTGCTTC',match=2,mismatch=-1,gap=-4)"
      ],
      "metadata": {
        "colab": {
          "base_uri": "https://localhost:8080/"
        },
        "id": "TXfeIWN1jxam",
        "outputId": "aa57de9c-b156-4c41-8143-d71718d741e6"
      },
      "execution_count": 72,
      "outputs": [
        {
          "output_type": "stream",
          "name": "stdout",
          "text": [
            "sequence 1: CTGTCG with length 6\n",
            "sequence 2: CTTCCTGCTTC  with length 11\n",
            "sequence 1: CTGTCG with length 6\n",
            "sequence 2: CTTCCTGCTTC  with length 11\n",
            "Row 0 : [0, -1, -2, -3, -4, -5, -6, -7, -8, -9, -10, -11]\n",
            "Row 1 : [-1, 2, -2, -3, -1, -2, -6, -7, -5, -9, -10, -8]\n",
            "Row 2 : [-2, -2, 4, 0, -4, -2, 0, -4, -8, -3, -7, -11]\n",
            "Row 3 : [-3, -3, 0, 3, -1, -5, -3, 2, -2, -6, -4, -8]\n",
            "Row 4 : [-4, -4, -1, 2, 2, -2, -3, -2, 1, 0, -4, -5]\n",
            "Row 5 : [-5, -2, -5, -2, 4, 4, 0, -4, 0, 0, -1, -2]\n",
            "Row 6 : [-6, -6, -3, -6, 0, 3, 3, 2, -2, -1, -1, -2]\n"
          ]
        },
        {
          "output_type": "execute_result",
          "data": {
            "text/plain": [
              "[[0, -1, -2, -3, -4, -5, -6, -7, -8, -9, -10, -11],\n",
              " [-1, 2, -2, -3, -1, -2, -6, -7, -5, -9, -10, -8],\n",
              " [-2, -2, 4, 0, -4, -2, 0, -4, -8, -3, -7, -11],\n",
              " [-3, -3, 0, 3, -1, -5, -3, 2, -2, -6, -4, -8],\n",
              " [-4, -4, -1, 2, 2, -2, -3, -2, 1, 0, -4, -5],\n",
              " [-5, -2, -5, -2, 4, 4, 0, -4, 0, 0, -1, -2],\n",
              " [-6, -6, -3, -6, 0, 3, 3, 2, -2, -1, -1, -2]]"
            ]
          },
          "metadata": {},
          "execution_count": 72
        }
      ]
    },
    {
      "cell_type": "code",
      "source": [
        "# 5. (15 points) Testing the python program using any example sequences (i.e., sequence 1: TTGCT, sequence 2: CTTCCT)\n",
        "# to answer the following questions.\n",
        "table = buildNWTable('GGATCCCT','ATCGTCGGA',match=2,mismatch=-1,gap=-4)"
      ],
      "metadata": {
        "colab": {
          "base_uri": "https://localhost:8080/"
        },
        "id": "NWMGjqpfmEC_",
        "outputId": "b2d64092-0149-4305-a492-9a435a40da98"
      },
      "execution_count": 18,
      "outputs": [
        {
          "output_type": "stream",
          "name": "stdout",
          "text": [
            "Sequence 1: GGATCCCT\n",
            "Sequence 2: ATCGTCGGA\n",
            "sequence 1: GGATCCCT with length 8\n",
            "sequence 2: ATCGTCGGA  with length 9\n",
            "sequence 1: GGATCCCT with length 8\n",
            "sequence 2: ATCGTCGGA  with length 9\n",
            "Row 0 : [0, -1, -2, -3, -4, -5, -6, -7, -8, -9]\n",
            "Row 1 : [-1, -1, -2, -3, -1, -5, -6, -4, -5, -9]\n",
            "Row 2 : [-2, -2, -2, -3, -1, -2, -6, -4, -2, -6]\n",
            "Row 3 : [-3, 0, -3, -3, -4, -2, -3, -7, -5, 0]\n",
            "Row 4 : [-4, -4, 2, -2, -4, -2, -3, -4, -8, -4]\n",
            "Row 5 : [-5, -5, -2, 4, 0, -4, 0, -4, -5, -8]\n",
            "Row 6 : [-6, -6, -6, 0, 3, -1, -2, -1, -5, -6]\n",
            "Row 7 : [-7, -7, -7, -4, -1, 2, 1, -3, -2, -6]\n",
            "Row 8 : [-8, -8, -5, -8, -5, 1, 1, 0, -4, -3]\n"
          ]
        }
      ]
    },
    {
      "cell_type": "code",
      "source": [
        "def get_score(a,b,match=1,mismatch=-1):\n",
        "  if a==b:\n",
        "    return match\n",
        "  else:\n",
        "    return mismatch"
      ],
      "metadata": {
        "id": "f3EoQgWXeoch"
      },
      "execution_count": 126,
      "outputs": []
    },
    {
      "cell_type": "code",
      "source": [
        "# Part III: Reconstructing the optimal alignment\n",
        "\n",
        "def NWTraceBack(X, Y, table, match=1, mismatch=-1, gap=-1):\n",
        "  \n",
        "  # alignment for X\n",
        "  first = ''\n",
        "  # alignment for Y\n",
        "  second = ''\n",
        "  m = len(X)\n",
        "  n = len(Y)\n",
        "  ######### start reconstruction at bottom-right of table\n",
        "  i=m\n",
        "  j=n\n",
        "  while i and j: \n",
        "        if (table[i][j]-get_score(X[i-1],Y[j-1]))==table[i-1][j-1]:\n",
        "# 3. (5 points) Inside function 'NWTraceBack' above, the code correctly determines if the value table[i][j] is derived from\n",
        "# the above cell table[i-1][j-1]\n",
        "          first = X[i-1] + first\n",
        "          second = Y[j-1] + second\n",
        "          i-=1\n",
        "          j-=1\n",
        "        elif (table[i][j]-gap)==table[i][j-1]:\n",
        "#  1. (5 points) Inside function 'NWTraceBack' above, the code correctly determines if the value table[i][j] is derived from\n",
        "# the left cell table[i][j-1].\n",
        "          first = \"_\"+first\n",
        "          second = Y[j-1] + second\n",
        "          j-=1\n",
        "        elif (table[i][j]-gap)==table[i-1][j]:\n",
        "#   2. (5 points) Inside function 'NWTraceBack' above, the code correctly determines if the value table[i][j] is derived from\n",
        "# the top cell table[i-1][j].\n",
        "          first = X[i-1] + first\n",
        "          second = \"_\"+second\n",
        "          i-=1\n",
        "  while j:\n",
        "    first = '_' + first\n",
        "    second = Y[j-1] + second\n",
        "    j -= 1\n",
        "  while i:\n",
        "    first = X[i-1] + first\n",
        "    second = '_' + second\n",
        "    i -= 1\n",
        "\n",
        "\n",
        "\n",
        "  #### Print your best alignment\n",
        "  print(\"\\n\")\n",
        "  print(\"Alignment\")\n",
        "  print(\"X:\",first)\n",
        "  print(\"Y:\",second)\n",
        "  print(\"Optimal score:\",table[m][n])\n",
        "\n",
        "  # 4. (5 points) Inside function 'NWTraceBack' above, the code correctly returns the optimal alignment.\n",
        "  return first,second,table[m][n]"
      ],
      "metadata": {
        "id": "O2ywQW3UmsD0"
      },
      "execution_count": 132,
      "outputs": []
    },
    {
      "cell_type": "code",
      "source": [
        "# 5. (10 points) Testing the python program using example sequences (sequence 1: TTGCT, sequence 2: CTTCCT) to\n",
        "# answer the following questions.\n",
        "\n",
        "table = buildNWTable('TTGCT','CTTCCT')\n",
        "align1,align2,opt_score = NWTraceBack('TTGCT','CTTCCT',table)"
      ],
      "metadata": {
        "colab": {
          "base_uri": "https://localhost:8080/"
        },
        "id": "1EQvyxWf6W51",
        "outputId": "e4003690-ad0a-4baa-ef03-f93e2f918075"
      },
      "execution_count": 133,
      "outputs": [
        {
          "output_type": "stream",
          "name": "stdout",
          "text": [
            "sequence 1: TTGCT with length 5\n",
            "sequence 2: CTTCCT  with length 6\n",
            "sequence 1: TTGCT with length 5\n",
            "sequence 2: CTTCCT  with length 6\n",
            "Row 0 : [0, -1, -2, -3, -4, -5, -6]\n",
            "Row 1 : [-1, -1, 0, -1, -2, -3, -4]\n",
            "Row 2 : [-2, -2, 0, 1, 0, -1, -2]\n",
            "Row 3 : [-3, -3, -1, 0, 0, -1, -2]\n",
            "Row 4 : [-4, -2, -2, -1, 1, 1, 0]\n",
            "Row 5 : [-5, -3, -1, -1, 0, 0, 2]\n",
            "\n",
            "\n",
            "Alignment\n",
            "X: _TTGCT\n",
            "Y: CTTCCT\n",
            "Optimal score: 2\n"
          ]
        }
      ]
    },
    {
      "cell_type": "code",
      "source": [
        "# 5. (10 points) Testing the python program using example sequences (sequence 1: TTGCT, sequence 2: CTTCCT) to\n",
        "# answer the following questions.\n",
        "\n",
        "table = buildNWTable('AGGCTT','AGG')\n",
        "align1,align2,opt_score = NWTraceBack('AGGCTT','AGG',table)"
      ],
      "metadata": {
        "colab": {
          "base_uri": "https://localhost:8080/"
        },
        "id": "vKnhs7oc-DzR",
        "outputId": "ca4ee56f-492b-489d-8286-7af0a53b5aea"
      },
      "execution_count": 134,
      "outputs": [
        {
          "output_type": "stream",
          "name": "stdout",
          "text": [
            "sequence 1: AGGCTT with length 6\n",
            "sequence 2: AGG  with length 3\n",
            "sequence 1: AGGCTT with length 6\n",
            "sequence 2: AGG  with length 3\n",
            "Row 0 : [0, -1, -2, -3]\n",
            "Row 1 : [-1, 1, 0, -1]\n",
            "Row 2 : [-2, 0, 2, 1]\n",
            "Row 3 : [-3, -1, 1, 3]\n",
            "Row 4 : [-4, -2, 0, 2]\n",
            "Row 5 : [-5, -3, -1, 1]\n",
            "Row 6 : [-6, -4, -2, 0]\n",
            "\n",
            "\n",
            "Alignment\n",
            "X: AGGCTT\n",
            "Y: AGG___\n",
            "Optimal score: 0\n"
          ]
        }
      ]
    },
    {
      "cell_type": "code",
      "source": [
        "# GCATG-CG\n",
        "# G-ATTACA\n",
        "table = buildNWTable('GCATGCG','GATTACA')\n",
        "align1,align2,opt_score = NWTraceBack('GCATGCG','GATTACA',table)"
      ],
      "metadata": {
        "colab": {
          "base_uri": "https://localhost:8080/"
        },
        "id": "RUzSHipQS_OX",
        "outputId": "d8803913-ad4b-4cde-f98e-30a5c33ce716"
      },
      "execution_count": 135,
      "outputs": [
        {
          "output_type": "stream",
          "name": "stdout",
          "text": [
            "sequence 1: GCATGCG with length 7\n",
            "sequence 2: GATTACA  with length 7\n",
            "sequence 1: GCATGCG with length 7\n",
            "sequence 2: GATTACA  with length 7\n",
            "Row 0 : [0, -1, -2, -3, -4, -5, -6, -7]\n",
            "Row 1 : [-1, 1, 0, -1, -2, -3, -4, -5]\n",
            "Row 2 : [-2, 0, 0, -1, -2, -3, -2, -3]\n",
            "Row 3 : [-3, -1, 1, 0, -1, -1, -2, -1]\n",
            "Row 4 : [-4, -2, 0, 2, 1, 0, -1, -2]\n",
            "Row 5 : [-5, -3, -1, 1, 1, 0, -1, -2]\n",
            "Row 6 : [-6, -4, -2, 0, 0, 0, 1, 0]\n",
            "Row 7 : [-7, -5, -3, -1, -1, -1, 0, 0]\n",
            "\n",
            "\n",
            "Alignment\n",
            "X: GCA_TGCG\n",
            "Y: G_ATTACA\n",
            "Optimal score: 0\n"
          ]
        }
      ]
    },
    {
      "cell_type": "code",
      "source": [
        "table = buildNWTable('GAAC','CAAGAC')\n",
        "align1,align2,opt_score = NWTraceBack('GAAC','CAAGAC',table)"
      ],
      "metadata": {
        "colab": {
          "base_uri": "https://localhost:8080/"
        },
        "id": "eNLgDfbRToST",
        "outputId": "d176105b-38f0-46eb-8bb0-850c998478ef"
      },
      "execution_count": 136,
      "outputs": [
        {
          "output_type": "stream",
          "name": "stdout",
          "text": [
            "sequence 1: GAAC with length 4\n",
            "sequence 2: CAAGAC  with length 6\n",
            "sequence 1: GAAC with length 4\n",
            "sequence 2: CAAGAC  with length 6\n",
            "Row 0 : [0, -1, -2, -3, -4, -5, -6]\n",
            "Row 1 : [-1, -1, -2, -3, -2, -3, -4]\n",
            "Row 2 : [-2, -2, 0, -1, -2, -1, -2]\n",
            "Row 3 : [-3, -3, -1, 1, 0, -1, -2]\n",
            "Row 4 : [-4, -2, -2, 0, 0, -1, 0]\n",
            "\n",
            "\n",
            "Alignment\n",
            "X: _GA_AC\n",
            "Y: CAAGAC\n",
            "Optimal score: 0\n"
          ]
        }
      ]
    },
    {
      "cell_type": "code",
      "source": [],
      "metadata": {
        "id": "aosFIqF_gMKP"
      },
      "execution_count": null,
      "outputs": []
    }
  ]
}